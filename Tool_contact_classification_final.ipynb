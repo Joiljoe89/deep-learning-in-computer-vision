{
  "nbformat": 4,
  "nbformat_minor": 0,
  "metadata": {
    "colab": {
      "name": "Tool_contact_classification_final.ipynb",
      "provenance": [],
      "collapsed_sections": [],
      "authorship_tag": "ABX9TyMIYVMIEE3S34d9xfZvbfRh",
      "include_colab_link": true
    },
    "kernelspec": {
      "name": "python3",
      "display_name": "Python 3"
    },
    "language_info": {
      "name": "python"
    }
  },
  "cells": [
    {
      "cell_type": "markdown",
      "metadata": {
        "id": "view-in-github",
        "colab_type": "text"
      },
      "source": [
        "<a href=\"https://colab.research.google.com/github/Joiljoe89/deep-learning-in-computer-vision/blob/master/Tool_contact_classification_final.ipynb\" target=\"_parent\"><img src=\"https://colab.research.google.com/assets/colab-badge.svg\" alt=\"Open In Colab\"/></a>"
      ]
    },
    {
      "cell_type": "markdown",
      "source": [
        "Connnect to google drive"
      ],
      "metadata": {
        "id": "f5HHmlamOBTL"
      }
    },
    {
      "cell_type": "code",
      "metadata": {
        "colab": {
          "base_uri": "https://localhost:8080/"
        },
        "id": "ex6v0uBPZ_RG",
        "outputId": "48e53cfb-8972-431c-db20-eda3d0be9a45"
      },
      "source": [
        "from google.colab import drive\n",
        "drive.mount('/content/drive')"
      ],
      "execution_count": 3,
      "outputs": [
        {
          "output_type": "stream",
          "name": "stdout",
          "text": [
            "Mounted at /content/drive\n"
          ]
        }
      ]
    },
    {
      "cell_type": "markdown",
      "source": [
        "IMPORTS\n",
        "We will use Keras (Tensorflow 2) for building our ResNet model and h5py to load data"
      ],
      "metadata": {
        "id": "Qb4ePn4WOKaX"
      }
    },
    {
      "cell_type": "code",
      "metadata": {
        "id": "HCLHKLdVN4aJ"
      },
      "source": [
        "import os\n",
        "import cv2\n",
        "import math\n",
        "import numpy as np\n",
        "import tensorflow as tf\n",
        "from tensorflow import keras\n",
        "from tensorflow.keras.models import Model, load_model\n",
        "from tensorflow.keras import layers\n",
        "from tensorflow.keras.layers import Input, Add, Dense, Activation, ZeroPadding2D, BatchNormalization, Flatten, Conv2D, AveragePooling2D, MaxPooling2D, GlobalMaxPooling2D\n",
        "from tensorflow.keras.preprocessing import image\n",
        "from keras.utils import layer_utils\n",
        "from keras.utils.data_utils import get_file\n",
        "from tensorflow.keras.applications.imagenet_utils import preprocess_input\n",
        "from IPython.display import SVG\n",
        "from keras.utils.vis_utils import model_to_dot\n",
        "from tensorflow.keras.utils import plot_model\n",
        "from tensorflow.keras.initializers import glorot_uniform\n",
        "import scipy.misc\n",
        "import matplotlib.pyplot as plt\n",
        "from matplotlib.pyplot import imshow\n",
        "\n",
        "%matplotlib inline\n",
        "import tensorflow.keras.backend as K\n",
        "# Image dataset has channels as its last dimensions\n",
        "K.set_image_data_format('channels_last')"
      ],
      "execution_count": 4,
      "outputs": []
    },
    {
      "cell_type": "markdown",
      "source": [
        "LOAD DATA\n",
        "Tool calibration Dataset"
      ],
      "metadata": {
        "id": "et4cVAGsOPG1"
      }
    },
    {
      "cell_type": "code",
      "source": [
        "#For the given path, get the List of all files in the directory tree \n",
        "def getListOfFiles(dirName):\n",
        "    # create a list of file and sub directories \n",
        "    # names in the given directory \n",
        "    listOfFile = os.listdir(dirName)\n",
        "    allFiles = list()\n",
        "    # Iterate over all the entries\n",
        "    for entry in listOfFile:\n",
        "        # Create full path\n",
        "        fullPath = os.path.join(dirName, entry)\n",
        "        # If entry is a directory then get the list of files in this directory \n",
        "        if os.path.isdir(fullPath):\n",
        "            allFiles = allFiles + getListOfFiles(fullPath)\n",
        "        else:\n",
        "            allFiles.append(fullPath)\n",
        "                \n",
        "    return allFiles"
      ],
      "metadata": {
        "id": "A529CkuEdsH2"
      },
      "execution_count": 5,
      "outputs": []
    },
    {
      "cell_type": "markdown",
      "source": [
        "Training dataset loading"
      ],
      "metadata": {
        "id": "7T9yGEDJOO4V"
      }
    },
    {
      "cell_type": "code",
      "source": [
        "# Load the dataset\n",
        "\n",
        "img_c1 = cv2.imread('/content/drive/My Drive/Contact_check/tool_3/train/3mm/IMG_20220425_150450.jpg')\n",
        "img_c1 = cv2.resize(img_c1, (224,224), interpolation = cv2.INTER_CUBIC)\n",
        "img_c1 = np.array(img_c1)\n",
        "\n",
        "input_img = 0\n",
        "\n",
        "# training images\n",
        "\n",
        "dirName_c1 = '/content/drive/My Drive/Contact_check/tool_3/train/3mm';\n",
        "dirName_c2 = '/content/drive/My Drive/Contact_check/tool_3/train/7mm';\n",
        "dirName_c3 = '/content/drive/My Drive/Contact_check/tool_3/train/facemill';\n",
        "\n",
        "# Get the list of all files in directory tree at given path\n",
        "listOfFiles_c1 = getListOfFiles(dirName_c1)\n",
        "listOfFiles_c1 = sorted(listOfFiles_c1)\n",
        "listOfFiles_c2 = getListOfFiles(dirName_c2)\n",
        "listOfFiles_c2 = sorted(listOfFiles_c2)\n",
        "listOfFiles_c3 = getListOfFiles(dirName_c3)\n",
        "listOfFiles_c3 = sorted(listOfFiles_c3)\n",
        "\n",
        "print('total training 3mm images:', len(os.listdir(dirName_c1)))\n",
        "num_img_c1 = len(os.listdir(dirName_c1))\n",
        "print('total training 7mm images:', len(os.listdir(dirName_c2)))\n",
        "num_img_c2 = len(os.listdir(dirName_c2))\n",
        "print('total training facemill images:', len(os.listdir(dirName_c3)))\n",
        "num_img_c3 = len(os.listdir(dirName_c3))\n",
        "\n",
        "# Print the files\n",
        "for elem_c1 in listOfFiles_c1:\n",
        "  #print(elem_c1[55::])\n",
        "  img_in = cv2.imread('/content/drive/My Drive/Contact_check/tool_3/train/3mm/'+elem_c1[55::])\n",
        "  img_in = cv2.resize(img_in, (224,224), interpolation = cv2.INTER_CUBIC) #INTER_NEAREST,INTER_LINEAR,INTER_CUBIC,INTER_LANCZOS4 \n",
        "  img_in_1 = img_in[:, ::-1, :]\n",
        "  img_in_2 = img_in[::-1, :, :]\n",
        "  img_in_3 = img_in[::-1, ::-1, :]\n",
        "  img_in =np.array(img_in)\n",
        "  input_img = np.append(img_in,img_c1, axis=0)\n",
        "  img_in_1 =np.array(img_in_1)\n",
        "  input_img = np.append(input_img,img_in_1, axis=0)\n",
        "  img_in_2 =np.array(img_in_2)\n",
        "  input_img = np.append(input_img,img_in_2, axis=0)\n",
        "  img_in_3 =np.array(img_in_3)\n",
        "  input_img = np.append(input_img,img_in_3, axis=0)\n",
        "  img_c1 = input_img\n",
        "print(img_c1.shape)\n",
        "\n",
        "for elem_c2 in listOfFiles_c2:\n",
        "  #print(elem_c2[55::])\n",
        "  img_in = cv2.imread('/content/drive/My Drive/Contact_check/tool_3/train/7mm/'+elem_c2[55::])\n",
        "  img_in = cv2.resize(img_in, (224,224), interpolation = cv2.INTER_CUBIC)\n",
        "  img_in_1 = img_in[:, ::-1, :]\n",
        "  img_in_2 = img_in[::-1, :, :]\n",
        "  img_in_3 = img_in[::-1, ::-1, :]\n",
        "  img_in =np.array(img_in)\n",
        "  input_img = np.append(img_in,img_c1, axis=0)\n",
        "  img_in_1 =np.array(img_in_1)\n",
        "  input_img = np.append(input_img,img_in_1, axis=0)\n",
        "  img_in_2 =np.array(img_in_2)\n",
        "  input_img = np.append(input_img,img_in_2, axis=0)\n",
        "  img_in_3 =np.array(img_in_3)\n",
        "  input_img = np.append(input_img,img_in_3, axis=0)\n",
        "  img_c1 = input_img\n",
        "print(img_c1.shape)\n",
        "\n",
        "for elem_c2 in listOfFiles_c3:\n",
        "  #print(elem_c2[60::])\n",
        "  img_in = cv2.imread('/content/drive/My Drive/Contact_check/tool_3/train/facemill/'+elem_c2[60::])\n",
        "  img_in = cv2.resize(img_in, (224,224), interpolation = cv2.INTER_CUBIC)\n",
        "  img_in_1 = img_in[:, ::-1, :]\n",
        "  img_in_2 = img_in[::-1, :, :]\n",
        "  img_in_3 = img_in[::-1, ::-1, :]\n",
        "  img_in =np.array(img_in)\n",
        "  input_img = np.append(img_in,img_c1, axis=0)\n",
        "  img_in_1 =np.array(img_in_1)\n",
        "  input_img = np.append(input_img,img_in_1, axis=0)\n",
        "  img_in_2 =np.array(img_in_2)\n",
        "  input_img = np.append(input_img,img_in_2, axis=0)\n",
        "  img_in_3 =np.array(img_in_3)\n",
        "  input_img = np.append(input_img,img_in_3, axis=0)\n",
        "  img_c1 = input_img\n",
        "print(img_c1.shape)\n",
        "img_c1 = img_c1.reshape(1+(4*(num_img_c1+num_img_c2+num_img_c3)),224,224,3)\n",
        "\n",
        "input_img = 0\n"
      ],
      "metadata": {
        "colab": {
          "base_uri": "https://localhost:8080/"
        },
        "id": "zBLNf_GZe9Cz",
        "outputId": "0c83bbcb-12aa-4d70-b2cb-be6ee658f4c1"
      },
      "execution_count": 6,
      "outputs": [
        {
          "output_type": "stream",
          "name": "stdout",
          "text": [
            "total training 3mm images: 40\n",
            "total training 7mm images: 36\n",
            "total training facemill images: 48\n",
            "(36064, 224, 3)\n",
            "(68320, 224, 3)\n",
            "(111328, 224, 3)\n"
          ]
        }
      ]
    },
    {
      "cell_type": "code",
      "source": [
        "input_img = 0\n",
        "#print(img_c1.shape,img_c2.shape,img_c3.shape,img_c4.shape,img_c5.shape)\n",
        "#nb_img_c1 = int(img_c1.shape[0]/200)\n",
        "\n",
        "max_value = 255.0\n",
        "X_train = img_c1.astype('float32') / max_value\n",
        "#img_c2 =img_c2.astype('float32') / max_value\n",
        "\n",
        "#X_train = X_train.reshape(img_c1[0] + img_c2[0],224,224,3)\n",
        "print('total training image data:', X_train.shape)\n",
        "\n",
        "y_train = np.append(np.tile(np.array([1,0,0]), ((4*num_img_c1)+1, 1)),np.tile(np.array([0,1,0]), (4*num_img_c2, 1)), axis=0)\n",
        "#y_train = np.append(np.zeros((num_img_c1+1,2)),np.ones((num_img_c2,2)), axis=0)\n",
        "y_train = np.append(y_train,np.tile(np.array([0,0,1]), (4*num_img_c3, 1)), axis=0)\n",
        "Y_train = y_train #.reshape(X_train[0], 2)\n",
        "print('total training label',Y_train.shape)\n",
        "\n",
        "\n",
        "print (\"********************train data complete****************\")"
      ],
      "metadata": {
        "colab": {
          "base_uri": "https://localhost:8080/"
        },
        "id": "YlWy-Gxrg3in",
        "outputId": "e8293d36-423d-4fab-bdd4-5307713e058c"
      },
      "execution_count": 7,
      "outputs": [
        {
          "output_type": "stream",
          "name": "stdout",
          "text": [
            "total training image data: (497, 224, 224, 3)\n",
            "total training label (497, 3)\n",
            "********************train data complete****************\n"
          ]
        }
      ]
    },
    {
      "cell_type": "markdown",
      "source": [
        "Test data loading"
      ],
      "metadata": {
        "id": "V4QlmBHNRBA9"
      }
    },
    {
      "cell_type": "code",
      "source": [
        "# Load the dataset\n",
        "\n",
        "img_c1 = cv2.imread('/content/drive/My Drive/Contact_check/tool_3/test/3mm/IMG_20220425_150516.jpg')\n",
        "img_c1 = cv2.resize(img_c1, (224,224), interpolation = cv2.INTER_CUBIC)\n",
        "img_c1 = np.array(img_c1)\n",
        "\n",
        "input_img = 0\n",
        "\n",
        "# training images\n",
        "\n",
        "dirName_c1 = '/content/drive/My Drive/Contact_check/tool_3/test/3mm';\n",
        "dirName_c2 = '/content/drive/My Drive/Contact_check/tool_3/test/7mm';\n",
        "dirName_c3 = '/content/drive/My Drive/Contact_check/tool_3/test/facemill';\n",
        "\n",
        "# Get the list of all files in directory tree at given path\n",
        "listOfFiles_c1 = getListOfFiles(dirName_c1)\n",
        "listOfFiles_c1 = sorted(listOfFiles_c1)\n",
        "listOfFiles_c2 = getListOfFiles(dirName_c2)\n",
        "listOfFiles_c2 = sorted(listOfFiles_c2)\n",
        "listOfFiles_c3 = getListOfFiles(dirName_c3)\n",
        "listOfFiles_c3 = sorted(listOfFiles_c3)\n",
        "\n",
        "print('total testing 3mm images:', len(os.listdir(dirName_c1)))\n",
        "num_img_c1 = len(os.listdir(dirName_c1))\n",
        "print('total testing 7mm images:', len(os.listdir(dirName_c2)))\n",
        "num_img_c2 = len(os.listdir(dirName_c2))\n",
        "print('total testing facemill images:', len(os.listdir(dirName_c3)))\n",
        "num_img_c3 = len(os.listdir(dirName_c3))\n",
        "\n",
        "# Print the files\n",
        "for elem_c1 in listOfFiles_c1:\n",
        "  #print(elem_c1[55::])\n",
        "  img_in = cv2.imread('/content/drive/My Drive/Contact_check/tool_3/test/3mm/'+elem_c1[54::])\n",
        "  img_in = cv2.resize(img_in, (224,224), interpolation = cv2.INTER_CUBIC) #INTER_NEAREST,INTER_LINEAR,INTER_CUBIC,INTER_LANCZOS4 \n",
        "  img_in =np.array(img_in)\n",
        "  #print(img_c1.shape)\n",
        "  input_img = np.append(img_in,img_c1, axis=0)\n",
        "  img_c1 = input_img\n",
        "print(img_c1.shape)\n",
        "\n",
        "for elem_c2 in listOfFiles_c2:\n",
        "  #print(elem_c2[55::])\n",
        "  img_in = cv2.imread('/content/drive/My Drive/Contact_check/tool_3/test/7mm/'+elem_c2[54::])\n",
        "  img_in = cv2.resize(img_in, (224,224), interpolation = cv2.INTER_CUBIC)\n",
        "  img_in =np.array(img_in)\n",
        "  input_img = np.append(img_c1,img_in, axis=0)\n",
        "  img_c1 = input_img\n",
        "print(img_c1.shape)\n",
        "\n",
        "for elem_c2 in listOfFiles_c3:\n",
        "  #print(elem_c2[60::])\n",
        "  img_in = cv2.imread('/content/drive/My Drive/Contact_check/tool_3/test/facemill/'+elem_c2[59::])\n",
        "  img_in = cv2.resize(img_in, (224,224), interpolation = cv2.INTER_CUBIC)\n",
        "  img_in =np.array(img_in)\n",
        "  input_img = np.append(img_c1,img_in, axis=0)\n",
        "  img_c1 = input_img\n",
        "print(img_c1.shape)\n",
        "img_c1 = img_c1.reshape(1+num_img_c1+num_img_c2+num_img_c3,224,224,3)\n",
        "\n",
        "input_img = 0"
      ],
      "metadata": {
        "colab": {
          "base_uri": "https://localhost:8080/"
        },
        "id": "0HkxTLH5Rf4p",
        "outputId": "cabded5b-ce88-4a46-988e-f99724a9de7c"
      },
      "execution_count": 8,
      "outputs": [
        {
          "output_type": "stream",
          "name": "stdout",
          "text": [
            "total testing 3mm images: 9\n",
            "total testing 7mm images: 8\n",
            "total testing facemill images: 13\n",
            "(2240, 224, 3)\n",
            "(4032, 224, 3)\n",
            "(6944, 224, 3)\n"
          ]
        }
      ]
    },
    {
      "cell_type": "code",
      "source": [
        "input_img = 0\n",
        "#print(img_c1.shape,img_c2.shape,img_c3.shape,img_c4.shape,img_c5.shape)\n",
        "#nb_img_c1 = int(img_c1.shape[0]/200)\n",
        "\n",
        "max_value = 255.0\n",
        "X_test = img_c1.astype('float32') / max_value\n",
        "#img_c2 =img_c2.astype('float32') / max_value\n",
        "\n",
        "#X_train = X_train.reshape(img_c1[0] + img_c2[0],224,224,3)\n",
        "print('total testing image data:', X_test.shape)\n",
        "\n",
        "y_test = np.append(np.tile(np.array([1,0,0]), (num_img_c1+1, 1)),np.tile(np.array([0,1,0]), (num_img_c2, 1)), axis=0)\n",
        "#y_train = np.append(np.zeros((num_img_c1+1,2)),np.ones((num_img_c2,2)), axis=0)\n",
        "y_test = np.append(y_test,np.tile(np.array([0,0,1]), (num_img_c3, 1)), axis=0)\n",
        "Y_test = y_test #.reshape(X_train[0], 2)\n",
        "print('total training label',Y_test.shape)\n",
        "\n",
        "\n",
        "print (\"********************test data complete****************\")"
      ],
      "metadata": {
        "colab": {
          "base_uri": "https://localhost:8080/"
        },
        "id": "s293ggCyRfvt",
        "outputId": "ca615c8e-79e2-424d-f6a5-1e987d41f3d3"
      },
      "execution_count": 9,
      "outputs": [
        {
          "output_type": "stream",
          "name": "stdout",
          "text": [
            "total testing image data: (31, 224, 224, 3)\n",
            "total training label (31, 3)\n",
            "********************test data complete****************\n"
          ]
        }
      ]
    },
    {
      "cell_type": "markdown",
      "source": [
        "IDENTITY BLOCK\n",
        "\n",
        "A block of layers with skip connection, where the input activation (say a[i]) has the same dimension as the output activation (say a[i+n] where n is number of layers in the block) is an identity block in a ResNet. The skip-connection or shortcut is reffered to the path 1 in the figure. While path 2 is the main path.\n",
        "\n",
        "Structure of our identity block"
      ],
      "metadata": {
        "id": "olYnnPsmPNQ6"
      }
    },
    {
      "cell_type": "code",
      "metadata": {
        "id": "rbYJUA-Sgs-f"
      },
      "source": [
        "def identity_block(X, f, filters, stage, block):\n",
        "\n",
        "  '''\n",
        "  Implementation of identity block described above\n",
        "\n",
        "  Arguments:\n",
        "  X -       input tensor to the block of shape (m, n_H_prev, n_W_prev, n_C_prev)\n",
        "  f -       defines shpae of filter in the middle layer of the main path\n",
        "  filters - list of integers, defining the number of filters in each layer of the main path\n",
        "  stage -   defines the block position in the network\n",
        "  block -   used for naming convention\n",
        "\n",
        "  Returns: \n",
        "  X - output is a tensor of shape (n_H, n_W, n_C) which matches (m, n_H_prev, n_W_prev, n_C_prev)\n",
        "  '''\n",
        "\n",
        "  # defining base name for block\n",
        "  conv_base_name = 'res' + str(stage) + block + '_'\n",
        "  bn_base_name = 'bn' + str(stage) + block + '_'\n",
        "\n",
        "  # retrieve number of filters in each layer of main path\n",
        "  # NOTE: f3 must be equal to n_C. That way dimensions of the third component will match the dimension of original input to identity block\n",
        "  f1, f2, f3 = filters\n",
        "\n",
        "  # Batch normalization must be performed on the 'channels' axis for input. It is 3, for our case\n",
        "  bn_axis = 3\n",
        "\n",
        "  # save input for \"addition\" to last layer output; step in skip-connection\n",
        "  X_skip_connection = X\n",
        "\n",
        "  # ----------------------------------------------------------------------\n",
        "  # Building layers/component of identity block using Keras functional API\n",
        "\n",
        "  # First component/layer of main path\n",
        "  X = Conv2D(filters= f1, kernel_size = (1,1), strides = (1,1), padding='valid', name=conv_base_name+'first_component', kernel_initializer = glorot_uniform(seed=0))(X)\n",
        "  X = BatchNormalization(axis=bn_axis, name=bn_base_name+'first_component')(X)\n",
        "  X = Activation('relu')(X)\n",
        "  \n",
        "  # Second component/layer of main path\n",
        "  X = Conv2D(filters= f2, kernel_size = (f,f), strides = (1,1), padding='same', name=conv_base_name+'second_component', kernel_initializer = glorot_uniform(seed=0))(X)\n",
        "  X = BatchNormalization(axis=bn_axis, name=bn_base_name+'second_component')(X)\n",
        "  X = Activation('relu')(X)\n",
        "\n",
        "  # Third component/layer of main path\n",
        "  X = Conv2D(filters= f3, kernel_size = (1,1), strides = (1,1), padding='valid', name=conv_base_name+'third_component', kernel_initializer = glorot_uniform(seed=0))(X)\n",
        "  X = BatchNormalization(axis=bn_axis, name=bn_base_name+'third_component')(X)\n",
        "  \n",
        "  # \"Addition step\" - skip-connection value merges with main path\n",
        "  # NOTE: both values have same dimensions at this point, so no operation is required to match dimensions\n",
        "  X = Add()([X, X_skip_connection])\n",
        "  X = Activation('relu')(X)\n",
        "\n",
        "  return X"
      ],
      "execution_count": 10,
      "outputs": []
    },
    {
      "cell_type": "markdown",
      "source": [
        "CONVOLUTIONAL BLOCK\n",
        "\n",
        "This is another kind of block with skip-connection in the ResNet. In this the input to block, and output of last layer in the block don't match in dimensions. So we need to add a convolution step in the skip-connection, before adding the input to last layer's output. This convolution step changes the dimension of the input, so that the dimensions match up for the later addition step."
      ],
      "metadata": {
        "id": "SMfvEOE2PkwQ"
      }
    },
    {
      "cell_type": "code",
      "metadata": {
        "id": "eOyhiSzxrj--"
      },
      "source": [
        "def convolutional_block(X, f, filters, stage, block, s = 2):\n",
        "    \"\"\"\n",
        "    Implementation of the convolutional block as defined in above figure\n",
        "    \n",
        "    Arguments:\n",
        "    X -       input tensor to the block of shape (m, n_H_prev, n_W_prev, n_C_prev)\n",
        "    f -       defines shape of filter in the middle layer of the main path\n",
        "    filters - list of integers, defining the number of filters in each layer of the main path\n",
        "    stage -   defines the block position in the network\n",
        "    block -   used for naming convention\n",
        "    s -       specifies the stride to be used\n",
        "    \n",
        "    Returns:\n",
        "    X -- output of the convolutional block, tensor of shape (n_H, n_W, n_C)\n",
        "    \"\"\"\n",
        "    \n",
        "    # defining base name for block\n",
        "    conv_base_name = 'res' + str(stage) + block + '_'\n",
        "    bn_base_name = 'bn' + str(stage) + block + '_'\n",
        "    \n",
        "    # retrieve number of filters in each layer of main path\n",
        "    f1, f2, f3 = filters\n",
        "    \n",
        "    # Batch normalization must be performed on the 'channels' axis for input. It is 3, for our case\n",
        "    bn_axis = 3\n",
        "\n",
        "    # save input for \"addition\" to last layer output; step in skip-connection\n",
        "    X_skip_connection = X\n",
        "\n",
        "    ##### MAIN PATH #####\n",
        "    # First component of main path \n",
        "    X = Conv2D(f1, (1, 1), strides = (s,s), padding = 'valid', name = conv_base_name + 'first_component', kernel_initializer = glorot_uniform(seed=0))(X)\n",
        "    X = BatchNormalization(axis = bn_axis, name = bn_base_name + 'first_component')(X)\n",
        "    X = Activation('relu')(X)\n",
        "    \n",
        "    # Second component of main path\n",
        "    X = Conv2D(f2,  kernel_size = (f, f), strides = (1,1), padding = 'same', name = conv_base_name + 'second_component', kernel_initializer = glorot_uniform(seed=0))(X)\n",
        "    X = BatchNormalization(axis = bn_axis, name = bn_base_name + 'second_component')(X)\n",
        "    X = Activation('relu')(X)\n",
        "\n",
        "    # Third component of main path \n",
        "    X = Conv2D(f3, kernel_size = (1, 1), strides = (1,1), padding = 'valid', name = conv_base_name + 'third_component', kernel_initializer = glorot_uniform(seed=0))(X)\n",
        "    X = BatchNormalization(axis = bn_axis, name = bn_base_name + 'third_component')(X)\n",
        "\n",
        "    ##### Convolve skip-connection value to match its dimensions to third layer output's dimensions #### \n",
        "    X_skip_connection = Conv2D(f3, (1, 1), strides = (s,s), padding = 'valid', name = conv_base_name + 'merge', kernel_initializer = glorot_uniform(seed=0))(X_skip_connection)\n",
        "    X_skip_connection = BatchNormalization(axis = 3, name = bn_base_name + 'merge')(X_skip_connection)\n",
        "\n",
        "    # \"Addition step\" \n",
        "    # NOTE: both values have same dimensions at this point\n",
        "    X = Add()([X, X_skip_connection])\n",
        "    X = Activation('relu')(X)\n",
        "\n",
        "    return X"
      ],
      "execution_count": 11,
      "outputs": []
    },
    {
      "cell_type": "markdown",
      "source": [
        "RESNET50\n",
        "\n",
        "Now that we have our building blocks - Convolutional block and identity block in place, we will build a 50 layer deep neural network with skip connections that implements the follwoing architecture"
      ],
      "metadata": {
        "id": "myFBMWeDPsg-"
      }
    },
    {
      "cell_type": "code",
      "metadata": {
        "id": "KAA3cR4A-kG0"
      },
      "source": [
        "def ResNet50(input_shape = (224, 224, 3), classes = 3):\n",
        "    \"\"\"\n",
        "    Arguments:\n",
        "    input_shape - shape of the images of the dataset\n",
        "    classes - number of classes\n",
        "\n",
        "    Returns:\n",
        "    model - a Model() instance in Keras\n",
        "    \n",
        "    \"\"\"\n",
        "    \n",
        "    # plug in input_shape to define the input tensor\n",
        "    X_input = Input(input_shape)\n",
        "\n",
        "    # Zero-Padding : pads the input with a pad of (3,3)\n",
        "    X = ZeroPadding2D((3, 3))(X_input)\n",
        "    \n",
        "    # Stage 1\n",
        "    X = Conv2D(64, (7, 7), strides = (2, 2), name = 'conv_1', kernel_initializer = glorot_uniform(seed=0))(X)\n",
        "    X = BatchNormalization(axis = 3, name = 'bn_1')(X)\n",
        "    X = Activation('relu')(X)\n",
        "    X = MaxPooling2D((3, 3), strides=(2, 2))(X)\n",
        "\n",
        "    # NOTE: dimensions of filters that are passed to identity block are such that final layer output\n",
        "    # in identity block mathces the original input to the block\n",
        "    # blocks in each stage are alphabetically sequenced\n",
        "\n",
        "    # Stage 2\n",
        "    X = convolutional_block(X, f = 3, filters = [64, 64, 256], stage = 2, block='a', s = 1)\n",
        "    X = identity_block(X, 3, [64, 64, 256], stage=2, block='b')\n",
        "    X = identity_block(X, 3, [64, 64, 256], stage=2, block='c')\n",
        "\n",
        "    # Stage 3\n",
        "    X = convolutional_block(X, f=3, filters=[128, 128, 512], stage=3, block='a', s=2)\n",
        "    X = identity_block(X, 3, [128, 128, 512], stage=3, block='b')\n",
        "    X = identity_block(X, 3, [128, 128, 512], stage=3, block='c')\n",
        "    X = identity_block(X, 3, [128, 128, 512], stage=3, block='d')\n",
        "\n",
        "    # Stage 4\n",
        "    X = convolutional_block(X, f=3, filters=[256, 256, 1024], stage=4, block='a', s=2)\n",
        "    X = identity_block(X, 3, [256, 256, 1024], stage=4, block='b')\n",
        "    X = identity_block(X, 3, [256, 256, 1024], stage=4, block='c')\n",
        "    X = identity_block(X, 3, [256, 256, 1024], stage=4, block='d')\n",
        "    X = identity_block(X, 3, [256, 256, 1024], stage=4, block='e')\n",
        "    X = identity_block(X, 3, [256, 256, 1024], stage=4, block='f')\n",
        "\n",
        "    # Stage 5\n",
        "    X = convolutional_block(X, f=3, filters=[512, 512, 2048], stage=5, block='a', s=2)\n",
        "    X = identity_block(X, 3, [512, 512, 2048], stage=5, block='b')\n",
        "    X = identity_block(X, 3, [512, 512, 2048], stage=5, block='c')\n",
        "\n",
        "    # Average Pooling\n",
        "    X = AveragePooling2D((2, 2), name='avg_pool')(X)\n",
        "\n",
        "    # output layer\n",
        "    X = Flatten()(X)\n",
        "    X = Dense(classes, activation='softmax', name='fc' + str(classes), kernel_initializer = glorot_uniform(seed=0))(X)\n",
        "    \n",
        "    # Create model\n",
        "    model = Model(inputs = X_input, outputs = X, name='ResNet50')\n",
        "\n",
        "    return model"
      ],
      "execution_count": 12,
      "outputs": []
    },
    {
      "cell_type": "code",
      "metadata": {
        "id": "2tcSKMMyDilb"
      },
      "source": [
        "model = ResNet50(input_shape = (224, 224, 3), classes = 3)\n",
        "model.compile(optimizer='adam', loss='categorical_crossentropy', metrics=['accuracy'])"
      ],
      "execution_count": 13,
      "outputs": []
    },
    {
      "cell_type": "code",
      "source": [
        "model.summary()"
      ],
      "metadata": {
        "id": "Kuo8yDNHQfrm"
      },
      "execution_count": null,
      "outputs": []
    },
    {
      "cell_type": "markdown",
      "source": [
        "TRAIN RESNET50"
      ],
      "metadata": {
        "id": "-RqaQhlpP32P"
      }
    },
    {
      "cell_type": "code",
      "metadata": {
        "colab": {
          "base_uri": "https://localhost:8080/"
        },
        "id": "iWUBnt4dfg3K",
        "outputId": "89dd1d22-8f7f-46f3-e4cc-e4483a804f3e"
      },
      "source": [
        "model.fit(X_train, Y_train, epochs = 10, batch_size = 8)"
      ],
      "execution_count": 14,
      "outputs": [
        {
          "output_type": "stream",
          "name": "stdout",
          "text": [
            "Epoch 1/10\n",
            "63/63 [==============================] - 352s 5s/step - loss: 5.5521 - accuracy: 0.4668\n",
            "Epoch 2/10\n",
            "63/63 [==============================] - 343s 5s/step - loss: 1.7847 - accuracy: 0.5936\n",
            "Epoch 3/10\n",
            "63/63 [==============================] - 344s 5s/step - loss: 1.4614 - accuracy: 0.6378\n",
            "Epoch 4/10\n",
            "63/63 [==============================] - 337s 5s/step - loss: 1.0695 - accuracy: 0.7042\n",
            "Epoch 5/10\n",
            "63/63 [==============================] - 345s 5s/step - loss: 1.3026 - accuracy: 0.6942\n",
            "Epoch 6/10\n",
            "63/63 [==============================] - 342s 5s/step - loss: 2.5543 - accuracy: 0.6318\n",
            "Epoch 7/10\n",
            "63/63 [==============================] - 339s 5s/step - loss: 1.1488 - accuracy: 0.7103\n",
            "Epoch 8/10\n",
            "63/63 [==============================] - 344s 5s/step - loss: 1.9708 - accuracy: 0.6559\n",
            "Epoch 9/10\n",
            "63/63 [==============================] - 345s 5s/step - loss: 0.5211 - accuracy: 0.7968\n",
            "Epoch 10/10\n",
            "63/63 [==============================] - 338s 5s/step - loss: 0.3727 - accuracy: 0.8571\n"
          ]
        },
        {
          "output_type": "execute_result",
          "data": {
            "text/plain": [
              "<keras.callbacks.History at 0x7f4d0dd759d0>"
            ]
          },
          "metadata": {},
          "execution_count": 14
        }
      ]
    },
    {
      "cell_type": "code",
      "metadata": {
        "id": "SyVDMaTQmDnr"
      },
      "source": [
        "model.save('/content/drive/My Drive/Contact_check/tool_3/model/RESNET50.h5')"
      ],
      "execution_count": 15,
      "outputs": []
    },
    {
      "cell_type": "markdown",
      "source": [
        "TEST PERFORMANCE"
      ],
      "metadata": {
        "id": "7Cm-kpZ5QBNH"
      }
    },
    {
      "cell_type": "code",
      "metadata": {
        "id": "0BEboK3RgVwc",
        "colab": {
          "base_uri": "https://localhost:8080/"
        },
        "outputId": "f2d7d99d-568f-4887-c0bd-4602dfffd70b"
      },
      "source": [
        "predictions = model.evaluate(X_test, Y_test)\n",
        "print(\"Loss = \" + str(predictions[0]))\n",
        "print(\"Test Accuracy = \" + str(predictions[1]))"
      ],
      "execution_count": 67,
      "outputs": [
        {
          "output_type": "stream",
          "name": "stdout",
          "text": [
            "1/1 [==============================] - 7s 7s/step - loss: 2.8532 - accuracy: 0.3548\n",
            "Loss = 2.8531925678253174\n",
            "Test Accuracy = 0.35483869910240173\n"
          ]
        }
      ]
    },
    {
      "cell_type": "code",
      "metadata": {
        "id": "lUHgzt0Bny1Q",
        "colab": {
          "base_uri": "https://localhost:8080/"
        },
        "outputId": "b96aaa58-7687-4c5b-f0f3-0e86211fce61"
      },
      "source": [
        "new_model = load_model('/content/drive/My Drive/Contact_check/tool_3/model/RESNET50.h5')\n",
        "predictions = new_model.evaluate(X_test, Y_test)\n",
        "print(predictions)"
      ],
      "execution_count": 29,
      "outputs": [
        {
          "output_type": "stream",
          "name": "stdout",
          "text": [
            "1/1 [==============================] - 8s 8s/step - loss: 1.7952 - accuracy: 1.0000\n",
            "[1.795180320739746, 1.0]\n"
          ]
        }
      ]
    }
  ]
}